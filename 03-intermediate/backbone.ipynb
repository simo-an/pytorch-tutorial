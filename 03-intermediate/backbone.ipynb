{
 "cells": [
  {
   "cell_type": "code",
   "execution_count": 2,
   "metadata": {},
   "outputs": [],
   "source": [
    "import torch\n",
    "import torch.nn as nn"
   ]
  },
  {
   "cell_type": "code",
   "execution_count": 4,
   "metadata": {},
   "outputs": [
    {
     "name": "stdout",
     "output_type": "stream",
     "text": [
      "tensor([[[[1., 0., 1.],\n",
      "          [0., 1., 0.],\n",
      "          [1., 0., 1.]]]])\n",
      "tensor([[[[1., 8., 4., 2., 5.],\n",
      "          [6., 7., 5., 7., 6.],\n",
      "          [5., 0., 8., 3., 5.],\n",
      "          [7., 9., 1., 0., 7.],\n",
      "          [2., 3., 9., 8., 3.]]]])\n",
      "tensor([[[[ 9., 20., 19., 14., 13.],\n",
      "          [15., 26., 19., 30., 12.],\n",
      "          [22., 20., 32., 23., 13.],\n",
      "          [11., 34., 16., 26., 19.],\n",
      "          [12., 12., 19., 17.,  4.]]]], grad_fn=<ThnnConv2DBackward0>)\n"
     ]
    }
   ],
   "source": [
    "# 卷积\n",
    "kernel = torch.tensor([[1, 0, 1],[0, 1, 0],[1, 0, 1]])\n",
    "image = torch.LongTensor([\n",
    "    [1, 8, 4, 2, 5],\n",
    "    [6, 7, 5, 7, 6],\n",
    "    [5, 0, 8, 3, 5],\n",
    "    [7, 9, 1, 0, 7],\n",
    "    [2, 3, 9, 8, 3],\n",
    "])\n",
    "\n",
    "kernel = kernel.unsqueeze(0).unsqueeze(0).float()\n",
    "image = image.unsqueeze(0).unsqueeze(0).float()\n",
    "\n",
    "conv = nn.Conv2d(1, 1, kernel_size=3, stride=1, padding=1)\n",
    "\n",
    "conv.weight = nn.Parameter(kernel)\n",
    "nn.init.ones_(conv.bias)\n",
    "\n",
    "print(kernel)\n",
    "print(image)\n",
    "\n",
    "print(conv(image))"
   ]
  },
  {
   "cell_type": "code",
   "execution_count": 6,
   "metadata": {},
   "outputs": [
    {
     "name": "stdout",
     "output_type": "stream",
     "text": [
      "tensor([[[[1., 8., 4., 2., 5.],\n",
      "          [6., 7., 5., 7., 6.],\n",
      "          [5., 0., 8., 3., 5.],\n",
      "          [7., 9., 1., 0., 7.],\n",
      "          [2., 3., 9., 8., 3.]]]])\n",
      "tensor([[[[8., 8., 7., 7.],\n",
      "          [7., 8., 8., 7.],\n",
      "          [9., 9., 8., 7.],\n",
      "          [9., 9., 9., 8.]]]])\n",
      "tensor([[[[5.5000, 6.0000, 4.5000, 5.0000],\n",
      "          [4.5000, 5.0000, 5.7500, 5.2500],\n",
      "          [5.2500, 4.5000, 3.0000, 3.7500],\n",
      "          [5.2500, 5.5000, 4.5000, 4.5000]]]])\n"
     ]
    }
   ],
   "source": [
    "# 池化\n",
    "print(image)\n",
    "\n",
    "max_pool = nn.MaxPool2d(kernel_size=2, stride=1)\n",
    "avg_pool = nn.AvgPool2d(kernel_size=2, stride=1)\n",
    "\n",
    "print(max_pool(image))\n",
    "print(avg_pool(image))"
   ]
  }
 ],
 "metadata": {
  "interpreter": {
   "hash": "b3ba2566441a7c06988d0923437866b63cedc61552a5af99d1f4fb67d367b25f"
  },
  "kernelspec": {
   "display_name": "Python 3.8.8 64-bit ('base': conda)",
   "language": "python",
   "name": "python3"
  },
  "language_info": {
   "codemirror_mode": {
    "name": "ipython",
    "version": 3
   },
   "file_extension": ".py",
   "mimetype": "text/x-python",
   "name": "python",
   "nbconvert_exporter": "python",
   "pygments_lexer": "ipython3",
   "version": "3.8.8"
  },
  "orig_nbformat": 4
 },
 "nbformat": 4,
 "nbformat_minor": 2
}
