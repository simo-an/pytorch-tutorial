{
 "cells": [
  {
   "cell_type": "markdown",
   "metadata": {},
   "source": [
    "## Tensor 基础知识\n",
    "\n",
    "### Tensor 数据类型"
   ]
  },
  {
   "cell_type": "code",
   "execution_count": 1,
   "metadata": {},
   "outputs": [],
   "source": [
    "import torch"
   ]
  },
  {
   "cell_type": "code",
   "execution_count": 4,
   "metadata": {},
   "outputs": [
    {
     "name": "stdout",
     "output_type": "stream",
     "text": [
      "tensor([[2.3694e-38, 4.5908e-41],\n",
      "        [0.0000e+00, 0.0000e+00]])\n",
      "tensor([[0, 0],\n",
      "        [0, 0]], dtype=torch.int32)\n",
      "tensor([[2.3694e-38, 4.5908e-41],\n",
      "        [0.0000e+00, 0.0000e+00]], dtype=torch.float64)\n",
      "tensor([[0, 0],\n",
      "        [0, 0]], dtype=torch.int32)\n"
     ]
    }
   ],
   "source": [
    "a = torch.Tensor(2, 2)\n",
    "b = a.int()\n",
    "c = a.type(torch.DoubleTensor)\n",
    "d = a.type_as(b)\n",
    "\n",
    "print(a)\n",
    "print(b)\n",
    "print(c)\n",
    "print(d)"
   ]
  },
  {
   "cell_type": "markdown",
   "metadata": {},
   "source": [
    "### Tensor 的创建与维度查看"
   ]
  },
  {
   "cell_type": "code",
   "execution_count": 9,
   "metadata": {},
   "outputs": [
    {
     "name": "stdout",
     "output_type": "stream",
     "text": [
      "tensor([[ 7.2881e-37,  2.9952e-30],\n",
      "        [-1.9043e-35,  4.5908e-41]])\n",
      "tensor([[0., 0.],\n",
      "        [0., 0.]], dtype=torch.float64)\n"
     ]
    }
   ],
   "source": [
    "a = torch.Tensor(2, 2)\n",
    "b = torch.DoubleTensor(2, 2)\n",
    "print(a)\n",
    "print(b)"
   ]
  },
  {
   "cell_type": "code",
   "execution_count": 10,
   "metadata": {},
   "outputs": [
    {
     "name": "stdout",
     "output_type": "stream",
     "text": [
      "tensor([[1., 2.],\n",
      "        [3., 4.]])\n"
     ]
    }
   ],
   "source": [
    "c = torch.Tensor([[1, 2], [3, 4]])\n",
    "print(c)"
   ]
  },
  {
   "cell_type": "code",
   "execution_count": 11,
   "metadata": {},
   "outputs": [
    {
     "name": "stdout",
     "output_type": "stream",
     "text": [
      "tensor([[0., 0.],\n",
      "        [0., 0.]])\n",
      "tensor([[1., 0.],\n",
      "        [0., 1.]])\n",
      "tensor([[-2.1773, -0.7162],\n",
      "        [-1.4039,  0.6929]])\n"
     ]
    }
   ],
   "source": [
    "d1 = torch.zeros(2, 2)\n",
    "d2 = torch.eye(2, 2)\n",
    "d3 = torch.randn(2, 2)\n",
    "print(d1)\n",
    "print(d2)\n",
    "print(d3)"
   ]
  },
  {
   "cell_type": "code",
   "execution_count": 15,
   "metadata": {},
   "outputs": [
    {
     "name": "stdout",
     "output_type": "stream",
     "text": [
      "tensor([2, 4, 6, 8])\n",
      "tensor([ 2.0000,  4.6667,  7.3333, 10.0000])\n",
      "tensor([0, 4, 5, 1, 2, 3])\n"
     ]
    }
   ],
   "source": [
    "e1 = torch.arange(2, 10, 2)\n",
    "e2 = torch.linspace(2, 10, 4) # 2 - 10 之前均分 4 份， 8 / 3 = 2.6667\n",
    "e3 = torch.randperm(6)\n",
    "\n",
    "print(e1)\n",
    "print(e2)\n",
    "print(e3)"
   ]
  },
  {
   "cell_type": "code",
   "execution_count": 17,
   "metadata": {},
   "outputs": [
    {
     "name": "stdout",
     "output_type": "stream",
     "text": [
      "tensor([1, 2, 3])\n",
      "tensor([1., 2., 3.])\n"
     ]
    }
   ],
   "source": [
    "f1 = torch.tensor([1, 2, 3]) # 类型仍然为 int\n",
    "f2 = torch.Tensor([1, 2, 3]) # \n",
    "print(f1)\n",
    "print(f2)"
   ]
  },
  {
   "cell_type": "code",
   "execution_count": 18,
   "metadata": {},
   "outputs": [
    {
     "name": "stdout",
     "output_type": "stream",
     "text": [
      "torch.Size([2, 2])\n",
      "torch.Size([6])\n",
      "6\n",
      "6\n"
     ]
    }
   ],
   "source": [
    "g1 = torch.Tensor(2, 2)\n",
    "g2 = torch.randperm(6)\n",
    "g3 = torch.tensor([[1, 2, 3], [4, 5, 6]])\n",
    "\n",
    "print(g1.shape)\n",
    "print(g2.size())\n",
    "print(g3.numel()) # 查看总元素的个数\n",
    "print(g3.nelement())"
   ]
  }
 ],
 "metadata": {
  "interpreter": {
   "hash": "b3ba2566441a7c06988d0923437866b63cedc61552a5af99d1f4fb67d367b25f"
  },
  "kernelspec": {
   "display_name": "Python 3.8.8 64-bit ('base': conda)",
   "language": "python",
   "name": "python3"
  },
  "language_info": {
   "codemirror_mode": {
    "name": "ipython",
    "version": 3
   },
   "file_extension": ".py",
   "mimetype": "text/x-python",
   "name": "python",
   "nbconvert_exporter": "python",
   "pygments_lexer": "ipython3",
   "version": "3.8.8"
  },
  "orig_nbformat": 4
 },
 "nbformat": 4,
 "nbformat_minor": 2
}
