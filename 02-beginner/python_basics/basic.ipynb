{
 "cells": [
  {
   "cell_type": "markdown",
   "metadata": {},
   "source": [
    "## Python 基础知识\n",
    "\n",
    "### 变量与对象"
   ]
  },
  {
   "cell_type": "code",
   "execution_count": 2,
   "metadata": {},
   "outputs": [
    {
     "name": "stdout",
     "output_type": "stream",
     "text": [
      "140709705557808 140709705557808 140709705557808\n"
     ]
    }
   ],
   "source": [
    "# 使用 id() 来查看变量的内存地址\n",
    "a = 1\n",
    "b = 1\n",
    "c = a + b - 1\n",
    "print(id(a), id(b), id(b)) # 指向不可变对象的变量在内存中共用一个地址"
   ]
  },
  {
   "cell_type": "code",
   "execution_count": 4,
   "metadata": {},
   "outputs": [
    {
     "name": "stdout",
     "output_type": "stream",
     "text": [
      "True\n"
     ]
    }
   ],
   "source": [
    "arr = [1]\n",
    "c_arr = arr\n",
    "arr.append(2)\n",
    "c_arr.append(3)\n",
    "print(arr == c_arr) # arr 和 c_arr 指向同一块内存"
   ]
  },
  {
   "cell_type": "code",
   "execution_count": 6,
   "metadata": {},
   "outputs": [
    {
     "name": "stdout",
     "output_type": "stream",
     "text": [
      "[1, 2, 3, [4, 5, 6, 7], 8]\n",
      "[1, 2, 3, [4, 5, 6, 7], 8]\n",
      "[1, 2, 3, [4, 5, 6, 7]]\n",
      "[1, 2, 3, [4, 5, 6, 7]]\n",
      "[1, 2, 3, [4, 5, 6]]\n"
     ]
    }
   ],
   "source": [
    "# 深拷贝与浅拷贝\n",
    "import copy\n",
    "a = [1, 2, 3, [4, 5, 6]]\n",
    "b = a                # 直接赋值\n",
    "c = copy.copy(a)     # 浅拷贝\n",
    "d = a[:]             # 相当于浅拷贝\n",
    "e = copy.deepcopy(a) # 深拷贝\n",
    "\n",
    "a.append(8)          # b 的值会同步改变\n",
    "a[3].append(7)       # d,c,d的值会同步发生改变\n",
    "\n",
    "print(a)\n",
    "\n",
    "print(b)\n",
    "print(c)\n",
    "print(d)\n",
    "print(e) # e 是深拷贝，值不会因为 a 的改变而改变，故维持原值"
   ]
  },
  {
   "cell_type": "markdown",
   "metadata": {},
   "source": [
    "### 作用域"
   ]
  },
  {
   "cell_type": "code",
   "execution_count": 8,
   "metadata": {},
   "outputs": [
    {
     "name": "stdout",
     "output_type": "stream",
     "text": [
      "1\n"
     ]
    }
   ],
   "source": [
    "# 局部变量的值不会改变全局变量的值\n",
    "a = 1\n",
    "def local():\n",
    "    a = 2\n",
    "\n",
    "local()\n",
    "print(a) # 仍旧为原来的值 1"
   ]
  },
  {
   "cell_type": "code",
   "execution_count": 9,
   "metadata": {},
   "outputs": [
    {
     "name": "stdout",
     "output_type": "stream",
     "text": [
      "3\n"
     ]
    }
   ],
   "source": [
    "# 改变全局变量的值的办法一：使用 global 关键之\n",
    "\n",
    "def local_en():\n",
    "    global a\n",
    "    a = 3\n",
    "\n",
    "local_en()\n",
    "\n",
    "print(a) # 值被local_en函数改变"
   ]
  },
  {
   "cell_type": "code",
   "execution_count": 11,
   "metadata": {},
   "outputs": [
    {
     "name": "stdout",
     "output_type": "stream",
     "text": [
      "[1, 2]\n",
      "{'name': 'Tom'}\n"
     ]
    }
   ],
   "source": [
    "# 改变全局变量的值的办法二：使用可变对象的内置函数(list, dict)\n",
    "\n",
    "arr = [1]\n",
    "target = {'name': 'Tom'}\n",
    "\n",
    "def local_en_en():\n",
    "    arr.append(2)       # 追加 2\n",
    "    target.popitem()    # 删除最后一个元素\n",
    "\n",
    "local_en_en()\n",
    "\n",
    "print(arr)\n",
    "print(target)"
   ]
  },
  {
   "cell_type": "code",
   "execution_count": 12,
   "metadata": {},
   "outputs": [
    {
     "name": "stdout",
     "output_type": "stream",
     "text": [
      "I am enclosed!\n"
     ]
    }
   ],
   "source": [
    "# 函数的嵌套\n",
    "def func():\n",
    "    def enclosed():\n",
    "        print('I am enclosed!')\n",
    "    \n",
    "    enclosed()\n",
    "\n",
    "func()"
   ]
  },
  {
   "cell_type": "markdown",
   "metadata": {},
   "source": [
    "### 高阶函数"
   ]
  },
  {
   "cell_type": "code",
   "execution_count": 25,
   "metadata": {},
   "outputs": [],
   "source": [
    "from functools import reduce\n",
    "import math"
   ]
  },
  {
   "cell_type": "code",
   "execution_count": 29,
   "metadata": {},
   "outputs": [
    {
     "name": "stdout",
     "output_type": "stream",
     "text": [
      "[1, 4, 9, 16, 25]\n"
     ]
    }
   ],
   "source": [
    "# map()\n",
    "def square(x): return x ** 2\n",
    "arr = [1, 2, 3, 4, 5]\n",
    "arr = list(map(square, arr)) # map 返回迭代器\n",
    "\n",
    "print(arr)"
   ]
  },
  {
   "cell_type": "code",
   "execution_count": 30,
   "metadata": {},
   "outputs": [
    {
     "name": "stdout",
     "output_type": "stream",
     "text": [
      "[1.0, 2.0, 3.0, 4.0, 5.0]\n",
      "[1.0, 4.0, 9.0, 16.0, 25.0]\n"
     ]
    }
   ],
   "source": [
    "# map() —— 使用 lambda 匿名函数\n",
    "arr = list(map(math.sqrt, arr))\n",
    "print(arr)\n",
    "arr = list(map(lambda x: x ** 2, arr))\n",
    "print(arr)\n"
   ]
  },
  {
   "cell_type": "code",
   "execution_count": 38,
   "metadata": {},
   "outputs": [
    {
     "name": "stdout",
     "output_type": "stream",
     "text": [
      "True\n"
     ]
    }
   ],
   "source": [
    "# reduce()\n",
    "def count_sum(x, y): return x + y\n",
    "arr = list(range(1, 101))\n",
    "arr_sum = reduce(count_sum, arr) # 计算 arr 数组所有元素之和\n",
    "print(arr_sum == sum(arr))"
   ]
  },
  {
   "cell_type": "code",
   "execution_count": 39,
   "metadata": {},
   "outputs": [
    {
     "name": "stdout",
     "output_type": "stream",
     "text": [
      "5050\n"
     ]
    }
   ],
   "source": [
    "# reduce() —— 使用 lambda 函数\n",
    "arr_sum = reduce(lambda x, y: x + y, arr)\n",
    "print(arr_sum)"
   ]
  },
  {
   "cell_type": "code",
   "execution_count": 42,
   "metadata": {},
   "outputs": [
    {
     "name": "stdout",
     "output_type": "stream",
     "text": [
      "[1, 2, 5, 8]\n",
      "[5, 8]\n"
     ]
    }
   ],
   "source": [
    "# filter()\n",
    "def filter_negative(x): return x >= 0\n",
    "mix_arr = [1, 2, -4, 5, -2, 8]\n",
    "mix_arr = list(filter(filter_negative, mix_arr))\n",
    "\n",
    "print(mix_arr)\n",
    "\n",
    "# lambda\n",
    "\n",
    "mix_arr = list(filter(lambda x: x > 4, mix_arr))\n",
    "print(mix_arr)"
   ]
  },
  {
   "cell_type": "code",
   "execution_count": 48,
   "metadata": {},
   "outputs": [
    {
     "name": "stdout",
     "output_type": "stream",
     "text": [
      "[1, 3, -5, 7, 11, -16, 23]\n",
      "[-16, -5, 1, 3, 7, 11, 23]\n",
      "[23, 11, 7, 3, 1, -5, -16]\n",
      "[23, 11, 7, 3, 1, -5, -16]\n"
     ]
    }
   ],
   "source": [
    "# sorted()\n",
    "non_sorted_arr = [1, 3, -5, 7, 11, -16, 23]\n",
    "\n",
    "sorted_arr1 = sorted(non_sorted_arr, key=abs, reverse=False) # 按照绝对值排序\n",
    "sorted_arr2 = sorted(non_sorted_arr, reverse=False)          # 正常排序\n",
    "sorted_arr3 = sorted(non_sorted_arr, reverse=True)           # 逆序排序\n",
    "\n",
    "print(sorted_arr1)\n",
    "print(sorted_arr2)\n",
    "print(sorted_arr3)\n",
    "\n",
    "sorted_arr4 = sorted(non_sorted_arr, key=lambda x: -x, reverse=False) # 元素取负之后排序（相当于逆序排序）\n",
    "\n",
    "print(sorted_arr4)"
   ]
  },
  {
   "cell_type": "markdown",
   "metadata": {},
   "source": [
    "### 其他内置函数"
   ]
  },
  {
   "cell_type": "code",
   "execution_count": 52,
   "metadata": {},
   "outputs": [
    {
     "name": "stdout",
     "output_type": "stream",
     "text": [
      "True\n",
      "False\n",
      "True\n"
     ]
    }
   ],
   "source": [
    "# all(): 判断迭代器中元素是否都为True, 0 为 False， 其他为 True\n",
    "print(all([1, 2, 3, 4, 5]))\n",
    "print(all([1, 2, 0, 4, 5]))\n",
    "print(all([1, 2, 'a', 4, 5]))"
   ]
  },
  {
   "cell_type": "code",
   "execution_count": 54,
   "metadata": {},
   "outputs": [
    {
     "name": "stdout",
     "output_type": "stream",
     "text": [
      "False\n",
      "True\n",
      "True\n"
     ]
    }
   ],
   "source": [
    "# any(): 判断迭代器中元素是否存在True\n",
    "print(any([0, False]))\n",
    "print(any([0, -1, 0, 0]))\n",
    "print(any([1, 2, 'a', 4, 5]))"
   ]
  },
  {
   "cell_type": "code",
   "execution_count": 55,
   "metadata": {},
   "outputs": [
    {
     "name": "stdout",
     "output_type": "stream",
     "text": [
      "0b1000\n",
      "0b1010\n",
      "0b1001110001000010000000000\n"
     ]
    }
   ],
   "source": [
    "# bin(): 返回整数的二进制表示\n",
    "print(bin(8))\n",
    "print(bin(10))\n",
    "print(bin(20481024))"
   ]
  },
  {
   "cell_type": "code",
   "execution_count": 65,
   "metadata": {},
   "outputs": [
    {
     "name": "stdout",
     "output_type": "stream",
     "text": [
      "True\n",
      "True\n",
      "True\n",
      "True\n",
      "True\n",
      "False\n",
      "False\n"
     ]
    }
   ],
   "source": [
    "# callable() 函数用于检查一个对象是否是可调用的。\n",
    "# 对于函数、方法、lambda 函式、 类、实现了 __call__ 方法的类实例, 它都返回 True。\n",
    "add = lambda x, y: x + y\n",
    "def func(x, y): return x + y\n",
    "\n",
    "class Adder:\n",
    "    def __call__(self, x, y):\n",
    "        return x + y\n",
    "\n",
    "const = 10\n",
    "class Mul:\n",
    "    def __init__(self):\n",
    "        pass\n",
    "\n",
    "adder = Adder()\n",
    "mul = Mul()         # Mul 没有实现 __call__ 方法，故不是 可调用的\n",
    "\n",
    "print(callable(add))\n",
    "print(callable(func))\n",
    "print(callable(Adder))\n",
    "print(callable(Mul))\n",
    "\n",
    "print(callable(adder))\n",
    "\n",
    "print(callable(const))\n",
    "print(callable(mul))\n"
   ]
  },
  {
   "cell_type": "code",
   "execution_count": 69,
   "metadata": {},
   "outputs": [
    {
     "name": "stdout",
     "output_type": "stream",
     "text": [
      "2021/12/1\n",
      "Hello\n"
     ]
    }
   ],
   "source": [
    "# classmethod 和 staticmethod\n",
    "# classmethod增加了一个对实际调用类的引用\n",
    "class TimeFormatter:\n",
    "    def __init__(self, y, m, d):\n",
    "        self.y = y\n",
    "        self.m = m\n",
    "        self.d = d\n",
    "    \n",
    "    @classmethod\n",
    "    def gen_formatter(cls, data_str: str):\n",
    "        y, m, d = list(map(lambda x: int(x), data_str.split('-')))\n",
    "        return cls(y, m, d)\n",
    "    \n",
    "    @staticmethod\n",
    "    def say_hello():\n",
    "        print('Hello')\n",
    "\n",
    "    def print_time(self):\n",
    "        print(f'{self.y}/{self.m}/{self.d}')\n",
    "    \n",
    "formatter = TimeFormatter.gen_formatter('2021-12-01')\n",
    "formatter.print_time()\n",
    "TimeFormatter.say_hello()"
   ]
  },
  {
   "cell_type": "code",
   "execution_count": 75,
   "metadata": {},
   "outputs": [
    {
     "name": "stdout",
     "output_type": "stream",
     "text": [
      "[(1, 4, 7), (2, 5, 8), (3, 6, 9)]\n",
      "1 4 7\n",
      "2 5 8\n",
      "3 6 9\n",
      "[1, 2, 3]\n",
      "(1,) (2,) (3,)\n",
      "[(1, 2, 3)]\n"
     ]
    }
   ],
   "source": [
    "# zip()\n",
    "# 将对象中的一个个元素打包成元组\n",
    "a = [1, 2, 3]\n",
    "b = [4, 5, 6]\n",
    "c = [7, 8, 9]\n",
    "\n",
    "print(list(zip(a, b, c)))\n",
    "for item_a, item_b, item_c in zip(a, b, c):\n",
    "    print(item_a, item_b, item_c)\n",
    "\n",
    "print(a)\n",
    "print(*zip(a))\n",
    "print(list(zip(*zip(a))))"
   ]
  },
  {
   "cell_type": "markdown",
   "metadata": {},
   "source": [
    "### 迭代器与生成器"
   ]
  },
  {
   "cell_type": "code",
   "execution_count": 78,
   "metadata": {},
   "outputs": [
    {
     "name": "stdout",
     "output_type": "stream",
     "text": [
      "1 2 3\n",
      "1\n"
     ]
    }
   ],
   "source": [
    "x = [1, 2, 3]\n",
    "y = iter(x)\n",
    "z = iter(x)\n",
    "\n",
    "print(next(y), next(y), next(y))\n",
    "print(next(z))"
   ]
  },
  {
   "cell_type": "code",
   "execution_count": 81,
   "metadata": {},
   "outputs": [
    {
     "name": "stdout",
     "output_type": "stream",
     "text": [
      "0\n",
      "1 2 3\n"
     ]
    }
   ],
   "source": [
    "# 利用 () 实现一个简单的生成器\n",
    "a = (x for x in range(10))\n",
    "print(next(a))\n",
    "\n",
    "# 使用 yield 创建一个生成器\n",
    "def func():\n",
    "    yield 1\n",
    "    yield 2\n",
    "    yield 3\n",
    "\n",
    "b = func()\n",
    "print(next(b),next(b),next(b))"
   ]
  },
  {
   "cell_type": "code",
   "execution_count": 82,
   "metadata": {},
   "outputs": [
    {
     "name": "stdout",
     "output_type": "stream",
     "text": [
      "1\n",
      "1\n",
      "2\n",
      "3\n",
      "5\n",
      "8\n",
      "13\n",
      "21\n",
      "34\n",
      "55\n",
      "89\n"
     ]
    }
   ],
   "source": [
    "# 使用生成器生成斐波那契数列\n",
    "def fi():\n",
    "    a = [1, 1]\n",
    "    while True:\n",
    "        a.append(sum(a))\n",
    "        yield a.pop(0)\n",
    "\n",
    "for x in fi():\n",
    "    print(x)\n",
    "    if (x > 60): break"
   ]
  }
 ],
 "metadata": {
  "interpreter": {
   "hash": "b3ba2566441a7c06988d0923437866b63cedc61552a5af99d1f4fb67d367b25f"
  },
  "kernelspec": {
   "display_name": "Python 3.8.8 64-bit ('base': conda)",
   "language": "python",
   "name": "python3"
  },
  "language_info": {
   "codemirror_mode": {
    "name": "ipython",
    "version": 3
   },
   "file_extension": ".py",
   "mimetype": "text/x-python",
   "name": "python",
   "nbconvert_exporter": "python",
   "pygments_lexer": "ipython3",
   "version": "3.8.8"
  },
  "orig_nbformat": 4
 },
 "nbformat": 4,
 "nbformat_minor": 2
}
