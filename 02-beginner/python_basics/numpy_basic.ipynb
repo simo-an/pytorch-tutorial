{
 "cells": [
  {
   "cell_type": "markdown",
   "metadata": {},
   "source": [
    "## Numpy 使用讲解\n",
    "\n",
    "### 创建数组"
   ]
  },
  {
   "cell_type": "code",
   "execution_count": null,
   "metadata": {},
   "outputs": [],
   "source": [
    "import numpy as np\n",
    "\n",
    "vec = np.array([1, 2, 3, 4])\n",
    "\n",
    "print(vec)"
   ]
  },
  {
   "cell_type": "code",
   "execution_count": null,
   "metadata": {},
   "outputs": [],
   "source": [
    "matrix = np.array([\n",
    "    [1, 'Tim'],\n",
    "    [2, 'Bob'],\n",
    "\n",
    "])\n",
    "print(matrix)"
   ]
  },
  {
   "cell_type": "code",
   "execution_count": null,
   "metadata": {},
   "outputs": [],
   "source": [
    "np.zeros(10)"
   ]
  },
  {
   "cell_type": "code",
   "execution_count": null,
   "metadata": {},
   "outputs": [],
   "source": [
    "np.zeros(10, dtype=int)"
   ]
  },
  {
   "cell_type": "code",
   "execution_count": null,
   "metadata": {},
   "outputs": [],
   "source": [
    "np.zeros((2, 3))"
   ]
  },
  {
   "cell_type": "code",
   "execution_count": null,
   "metadata": {},
   "outputs": [],
   "source": [
    "np.ones((3, 3))"
   ]
  },
  {
   "cell_type": "code",
   "execution_count": null,
   "metadata": {},
   "outputs": [],
   "source": [
    "np.full((4, 4), 8)"
   ]
  },
  {
   "cell_type": "code",
   "execution_count": null,
   "metadata": {},
   "outputs": [],
   "source": [
    "np.arange(0, 20, 2)"
   ]
  },
  {
   "cell_type": "code",
   "execution_count": null,
   "metadata": {},
   "outputs": [],
   "source": [
    "np.linspace(0, 10, 5)"
   ]
  },
  {
   "cell_type": "markdown",
   "metadata": {},
   "source": [
    "### 创建随机数组"
   ]
  },
  {
   "cell_type": "code",
   "execution_count": null,
   "metadata": {},
   "outputs": [],
   "source": [
    "np.random.randint(0, 10, (2, 2))"
   ]
  },
  {
   "cell_type": "code",
   "execution_count": null,
   "metadata": {},
   "outputs": [],
   "source": [
    "np.random.seed(1)\n",
    "np.random.randint(0, 10, 5)"
   ]
  },
  {
   "cell_type": "code",
   "execution_count": null,
   "metadata": {},
   "outputs": [],
   "source": [
    "np.random.random(10)"
   ]
  },
  {
   "cell_type": "code",
   "execution_count": null,
   "metadata": {},
   "outputs": [],
   "source": [
    "np.random.normal(loc=0, scale=4, size=10)"
   ]
  },
  {
   "cell_type": "markdown",
   "metadata": {},
   "source": [
    "### 获取Numpy属性"
   ]
  },
  {
   "cell_type": "code",
   "execution_count": null,
   "metadata": {},
   "outputs": [],
   "source": [
    "a = np.arange(15)\n",
    "b = np.reshape(a, newshape=(3, 5))\n",
    "\n",
    "print(a)\n",
    "print(b)"
   ]
  },
  {
   "cell_type": "code",
   "execution_count": null,
   "metadata": {},
   "outputs": [],
   "source": [
    "c = np.reshape(a, newshape=(5, -1))\n",
    "print(c)\n",
    "print(c.ndim)"
   ]
  },
  {
   "cell_type": "markdown",
   "metadata": {},
   "source": [
    "### Numpy 数组索引"
   ]
  },
  {
   "cell_type": "code",
   "execution_count": null,
   "metadata": {},
   "outputs": [],
   "source": [
    "import numpy as np\n",
    "\n",
    "matrix = np.array([\n",
    "    [1, 4, 7],\n",
    "    [2, 5, 8],\n",
    "])\n",
    "print(matrix[0, 1])"
   ]
  },
  {
   "cell_type": "markdown",
   "metadata": {},
   "source": [
    "### 切片"
   ]
  },
  {
   "cell_type": "code",
   "execution_count": null,
   "metadata": {},
   "outputs": [],
   "source": [
    "matrix = np.array([\n",
    "    [1, 4, 7],\n",
    "    [2, 5, 8],\n",
    "    [3, 6, 9]\n",
    "])\n",
    "print(matrix[:, 1])\n",
    "print(matrix[:, 0:2])\n",
    "print(matrix[1:3, :])\n",
    "print(matrix[1:3, 0:2])"
   ]
  },
  {
   "cell_type": "markdown",
   "metadata": {},
   "source": [
    "### 矩阵运算"
   ]
  },
  {
   "cell_type": "code",
   "execution_count": null,
   "metadata": {},
   "outputs": [],
   "source": [
    "import numpy as np\n",
    "\n",
    "one_matrix = np.ones([3, 3])\n",
    "eye_matrix = np.eye(3, k=0) # k表示与主对角线的偏移度，k>0往右上偏移，k<0往左下偏移\n",
    "\n",
    "print(one_matrix)\n",
    "print('-----------')\n",
    "print(eye_matrix)\n",
    "print('-----------')\n",
    "print(one_matrix - eye_matrix)\n",
    "print('-----------')"
   ]
  },
  {
   "cell_type": "code",
   "execution_count": null,
   "metadata": {},
   "outputs": [],
   "source": [
    "st_matrix = np.array([\n",
    "    [1, 4, 9],\n",
    "    [4, 16, 25],\n",
    "    [36, 49, 64]\n",
    "])\n",
    "np.sqrt(st_matrix)"
   ]
  },
  {
   "cell_type": "code",
   "execution_count": null,
   "metadata": {},
   "outputs": [],
   "source": [
    "A3x2 = np.array([\n",
    "    [1, 2],\n",
    "    [4, 6],\n",
    "    [3, 2]\n",
    "])\n",
    "B2x4 = np.array([\n",
    "    [1, 2, 3, 4],\n",
    "    [4, 6, 5, 3]\n",
    "])\n",
    "\n",
    "C3x4 = np.dot(A3x2, B2x4)\n",
    "\n",
    "print(A3x2.shape)\n",
    "print(B2x4.shape)\n",
    "print(C3x4.shape)\n",
    "\n",
    "print(C3x4)"
   ]
  },
  {
   "cell_type": "code",
   "execution_count": null,
   "metadata": {},
   "outputs": [],
   "source": [
    "print(A3x2)\n",
    "print(A3x2.T)\n",
    "print(np.transpose(A3x2))\n",
    "A3x2.flatten()"
   ]
  },
  {
   "cell_type": "code",
   "execution_count": null,
   "metadata": {},
   "outputs": [],
   "source": [
    "# 求举证的逆\n",
    "import numpy as np\n",
    "import numpy.linalg as lg\n",
    "\n",
    "A = np.array([\n",
    "    [2, 4],\n",
    "    [4, 6]\n",
    "])\n",
    "invA = lg.inv(A)\n",
    "\n",
    "print(invA)"
   ]
  },
  {
   "cell_type": "markdown",
   "metadata": {},
   "source": [
    "### 数据类型的转换"
   ]
  },
  {
   "cell_type": "code",
   "execution_count": null,
   "metadata": {},
   "outputs": [],
   "source": [
    "vertor = np.array(['1', '2', '3', '4'])\n",
    "int_vertor = vertor.astype(dtype=int)\n",
    "\n",
    "print(int_vertor)"
   ]
  },
  {
   "cell_type": "code",
   "execution_count": null,
   "metadata": {},
   "outputs": [],
   "source": [
    "num_vertor = np.array([2, 4, 6, 8])\n",
    "print(num_vertor.mean())\n",
    "print(num_vertor.sum())\n",
    "print(num_vertor.max())\n",
    "print(num_vertor.min())\n",
    "print(np.median(num_vertor))"
   ]
  },
  {
   "cell_type": "code",
   "execution_count": null,
   "metadata": {},
   "outputs": [],
   "source": [
    "num_vertor = np.array([\n",
    "    [2, 4, 6, 8],\n",
    "    [4, 6, 10, 12]\n",
    "])\n",
    "print(num_vertor.mean(axis=1))\n",
    "print(num_vertor.sum(axis=1))\n",
    "print(num_vertor.max(axis=1))\n",
    "print(num_vertor.min(axis=1))\n",
    "print(np.median(num_vertor, axis=1))"
   ]
  },
  {
   "cell_type": "markdown",
   "metadata": {},
   "source": [
    "### Numpy中的arg运算"
   ]
  },
  {
   "cell_type": "code",
   "execution_count": null,
   "metadata": {},
   "outputs": [],
   "source": [
    "idx1 = np.argmax([3, 1, 6, 8, 2, 5])\n",
    "idx2 = np.argmin([3, 1, 6, 8, 2, 5])\n",
    "\n",
    "seq_ver = [1, 2, 3, 4, 5]\n",
    "np.random.shuffle(seq_ver)\n",
    "print(seq_ver)\n",
    "print(idx1)\n",
    "print(idx2)\n",
    "\n",
    "sort_idx = np.argsort(seq_ver)\n",
    "\n",
    "print(sort_idx)"
   ]
  },
  {
   "cell_type": "markdown",
   "metadata": {},
   "source": [
    "### FancyIndexing"
   ]
  },
  {
   "cell_type": "code",
   "execution_count": null,
   "metadata": {},
   "outputs": [],
   "source": [
    "import numpy as np\n",
    "\n",
    "X = np.arange(15)\n",
    "ind = [3, 5, 8]\n",
    "print(X)\n",
    "print(X[ind])"
   ]
  },
  {
   "cell_type": "code",
   "execution_count": null,
   "metadata": {},
   "outputs": [],
   "source": [
    "np.random.shuffle(X)\n",
    "print(X)\n",
    "ind = np.array([[0, 2], [1, 3]])\n",
    "print(X[ind])"
   ]
  },
  {
   "cell_type": "code",
   "execution_count": null,
   "metadata": {},
   "outputs": [],
   "source": [
    "x = np.arange(16)\n",
    "X = x.reshape(4, -1)\n",
    "print(X)\n",
    "\n",
    "row = np.array([0, 1, 2])\n",
    "col = np.array([1, 2, 3])\n",
    "\n",
    "print(X[row, col])\n",
    "print(X[1:3, col])"
   ]
  },
  {
   "cell_type": "markdown",
   "metadata": {},
   "source": [
    "### Numpy数组比较"
   ]
  },
  {
   "cell_type": "code",
   "execution_count": null,
   "metadata": {},
   "outputs": [],
   "source": [
    "import numpy as np\n",
    "\n",
    "matrix = np.array([\n",
    "    [1, 2, 3],\n",
    "    [1, 3, 5],\n",
    "    [1, 4, 7]\n",
    "])\n",
    "\n",
    "M = matrix == 3\n",
    "print(M)"
   ]
  },
  {
   "cell_type": "code",
   "execution_count": null,
   "metadata": {},
   "outputs": [],
   "source": [
    "# matrix[:, 2] = [3 5 7]\n",
    "second_col_3 = (matrix[:, 0] == 1)\n",
    "print(second_col_3)\n",
    "\n",
    "print(matrix[second_col_3])"
   ]
  },
  {
   "cell_type": "code",
   "execution_count": null,
   "metadata": {},
   "outputs": [],
   "source": [
    "print(np.all((matrix > 0)))             # 是不是所有的都 > 0\n",
    "print(np.any((matrix > 3)))             # 是不是存在 > 3\n",
    "print(np.count_nonzero((matrix > 3)))   # 非 0(False) 的元素个数"
   ]
  }
 ],
 "metadata": {
  "interpreter": {
   "hash": "b3ba2566441a7c06988d0923437866b63cedc61552a5af99d1f4fb67d367b25f"
  },
  "kernelspec": {
   "display_name": "Python 3.8.8 64-bit ('base': conda)",
   "language": "python",
   "name": "python3"
  },
  "language_info": {
   "codemirror_mode": {
    "name": "ipython",
    "version": 3
   },
   "file_extension": ".py",
   "mimetype": "text/x-python",
   "name": "python",
   "nbconvert_exporter": "python",
   "pygments_lexer": "ipython3",
   "version": "3.8.8"
  },
  "orig_nbformat": 4
 },
 "nbformat": 4,
 "nbformat_minor": 2
}
