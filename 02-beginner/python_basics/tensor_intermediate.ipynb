{
 "cells": [
  {
   "cell_type": "markdown",
   "metadata": {},
   "source": [
    "## Tensor 进阶知识\n",
    "\n",
    "### Tensor的组合与分块\n",
    "\n",
    "组合：`torch.cat(), torch.stack()` \n",
    "\n",
    "分块：`torch.chunk(), torch.spilk()`"
   ]
  },
  {
   "cell_type": "code",
   "execution_count": 2,
   "metadata": {},
   "outputs": [],
   "source": [
    "import torch"
   ]
  },
  {
   "cell_type": "code",
   "execution_count": 3,
   "metadata": {},
   "outputs": [],
   "source": [
    "a = torch.Tensor([[1, 2], [3, 4]])\n",
    "b = torch.Tensor([[5, 6], [7, 8]])"
   ]
  },
  {
   "cell_type": "code",
   "execution_count": 4,
   "metadata": {},
   "outputs": [
    {
     "name": "stdout",
     "output_type": "stream",
     "text": [
      "tensor([[1., 2.],\n",
      "        [3., 4.],\n",
      "        [5., 6.],\n",
      "        [7., 8.]])\n",
      "tensor([[1., 2., 5., 6.],\n",
      "        [3., 4., 7., 8.]])\n"
     ]
    }
   ],
   "source": [
    "c1 = torch.cat([a, b], 0)\n",
    "c2 = torch.cat([a, b], 1)\n",
    "\n",
    "print(c1)\n",
    "print(c2)"
   ]
  },
  {
   "cell_type": "code",
   "execution_count": 9,
   "metadata": {},
   "outputs": [
    {
     "name": "stdout",
     "output_type": "stream",
     "text": [
      "tensor([[[1., 2.],\n",
      "         [3., 4.]],\n",
      "\n",
      "        [[5., 6.],\n",
      "         [7., 8.]]])\n",
      "tensor([[[1., 2.],\n",
      "         [5., 6.]],\n",
      "\n",
      "        [[3., 4.],\n",
      "         [7., 8.]]])\n",
      "tensor([[[1., 5.],\n",
      "         [2., 6.]],\n",
      "\n",
      "        [[3., 7.],\n",
      "         [4., 8.]]])\n"
     ]
    }
   ],
   "source": [
    "d1 = torch.stack([a, b], 0)\n",
    "d2 = torch.stack([a, b], 1)\n",
    "d3 = torch.stack([a, b], 2)\n",
    "\n",
    "'''\n",
    "1.\n",
    "[[1, 2], [3, 4]] cat [[5, 6], [7, 8]] = [[[1, 2], [3, 4]], [[5, 6], [7, 8]]]\n",
    "2.\n",
    "[1, 2] cat [5, 6] = [[1, 2], [5, 6]]\n",
    "[3, 4] cat [7, 8] = [[3, 4], [7, 8]]\n",
    "=>\n",
    "[[[1, 2], [5, 6]],[[3, 4], [7, 8]]]\n",
    "3.\n",
    "[[1, 5], [2, 6], [3, 7], [4, 8]]\n",
    "'''\n",
    "print(d1)\n",
    "print(d2)\n",
    "print(d3)"
   ]
  },
  {
   "cell_type": "code",
   "execution_count": 10,
   "metadata": {},
   "outputs": [],
   "source": [
    "a = torch.Tensor([[1, 2, 3], [4, 5, 6]])"
   ]
  },
  {
   "cell_type": "code",
   "execution_count": 14,
   "metadata": {},
   "outputs": [
    {
     "name": "stdout",
     "output_type": "stream",
     "text": [
      "(tensor([[1., 2., 3.]]), tensor([[4., 5., 6.]]))\n",
      "(tensor([[1., 2.],\n",
      "        [4., 5.]]), tensor([[3.],\n",
      "        [6.]]))\n",
      "(tensor([[1., 2., 3.],\n",
      "        [4., 5., 6.]]),)\n",
      "(tensor([[1., 2.],\n",
      "        [4., 5.]]), tensor([[3.],\n",
      "        [6.]]))\n"
     ]
    }
   ],
   "source": [
    "#TODO Review\n",
    "e1 = a.chunk(2, 0)\n",
    "e2 = a.chunk(2, 1)\n",
    "\n",
    "f1 = a.split(2, 0)\n",
    "f2 = a.split(2, 1)\n",
    "\n",
    "print(e1)\n",
    "print(e2)\n",
    "\n",
    "print(f1)\n",
    "print(f2)"
   ]
  },
  {
   "cell_type": "markdown",
   "metadata": {},
   "source": [
    "### Tensor 的索引与变形"
   ]
  },
  {
   "cell_type": "code",
   "execution_count": 20,
   "metadata": {},
   "outputs": [
    {
     "name": "stdout",
     "output_type": "stream",
     "text": [
      "tensor([2., 3.])\n",
      "tensor(1.)\n",
      "tensor([[False,  True],\n",
      "        [ True,  True]])\n",
      "tensor([1., 2., 3.])\n",
      "tensor([1., 2., 3.])\n",
      "tensor([[0, 1],\n",
      "        [1, 0],\n",
      "        [1, 1]])\n"
     ]
    }
   ],
   "source": [
    "a = torch.Tensor([[0, 1], [2, 3]])\n",
    "\n",
    "print(a[1])\n",
    "print(a[0, 1])\n",
    "\n",
    "print(a > 0)\n",
    "print(a[a > 0])\n",
    "print(torch.masked_select(a, a > 0))\n",
    "\n",
    "# 获取非0元素的坐标\n",
    "print(torch.nonzero(a))"
   ]
  },
  {
   "cell_type": "code",
   "execution_count": 23,
   "metadata": {},
   "outputs": [
    {
     "name": "stdout",
     "output_type": "stream",
     "text": [
      "tensor([[0., 1.],\n",
      "        [1., 1.]])\n"
     ]
    }
   ],
   "source": [
    "# where & clamp\n",
    "full_one = torch.full_like(a, 1)\n",
    "print(torch.where(a > 1, full_one, a))"
   ]
  },
  {
   "cell_type": "code",
   "execution_count": 26,
   "metadata": {},
   "outputs": [
    {
     "name": "stdout",
     "output_type": "stream",
     "text": [
      "tensor([[1., 1.],\n",
      "        [2., 2.]])\n"
     ]
    }
   ],
   "source": [
    "g = a.clamp(1, 2)\n",
    "print(g)"
   ]
  },
  {
   "cell_type": "code",
   "execution_count": 31,
   "metadata": {},
   "outputs": [
    {
     "name": "stdout",
     "output_type": "stream",
     "text": [
      "tensor([1, 2, 3, 4])\n",
      "tensor([[1, 2],\n",
      "        [3, 4]])\n",
      "tensor([[1],\n",
      "        [2],\n",
      "        [3],\n",
      "        [4]])\n",
      "tensor([[1],\n",
      "        [2],\n",
      "        [3],\n",
      "        [4]])\n"
     ]
    },
    {
     "name": "stderr",
     "output_type": "stream",
     "text": [
      "C:\\ProgramData\\Anaconda3\\lib\\site-packages\\torch\\_tensor.py:493: UserWarning: non-inplace resize is deprecated\n",
      "  warnings.warn(\"non-inplace resize is deprecated\")\n"
     ]
    }
   ],
   "source": [
    "#### view, resize, reshape\n",
    "a = torch.arange(1, 5)\n",
    "\n",
    "# view\n",
    "b1 = a.view(2, 2)\n",
    "b2 = a.resize(4, 1) #deprecated\n",
    "b3 = a.reshape(4, 1)\n",
    "\n",
    "print(a)\n",
    "print(b1)\n",
    "print(b2)\n",
    "print(b3)\n"
   ]
  },
  {
   "cell_type": "code",
   "execution_count": 34,
   "metadata": {},
   "outputs": [
    {
     "name": "stdout",
     "output_type": "stream",
     "text": [
      "tensor([6, 2, 3, 4])\n",
      "tensor([7, 2, 3, 4])\n",
      "tensor([8, 2, 3, 4])\n"
     ]
    }
   ],
   "source": [
    "b1[0, 0] = 6\n",
    "print(a)\n",
    "b2[0, 0] = 7\n",
    "print(a)\n",
    "b3[0, 0] = 8\n",
    "print(a)"
   ]
  },
  {
   "cell_type": "code",
   "execution_count": 35,
   "metadata": {},
   "outputs": [
    {
     "name": "stdout",
     "output_type": "stream",
     "text": [
      "tensor([[8, 2, 3],\n",
      "        [4, 0, 0]])\n"
     ]
    }
   ],
   "source": [
    "a.resize_(2, 3) # 直接改变a\n",
    "\n",
    "print(a)"
   ]
  },
  {
   "cell_type": "code",
   "execution_count": 42,
   "metadata": {},
   "outputs": [
    {
     "name": "stdout",
     "output_type": "stream",
     "text": [
      "tensor([[[1, 2],\n",
      "         [3, 4]],\n",
      "\n",
      "        [[5, 6],\n",
      "         [7, 8]]])\n"
     ]
    }
   ],
   "source": [
    "### transpose, permute\n",
    "a = torch.tensor([\n",
    "    [[1, 2],[3, 4]],\n",
    "    [[5, 6],[7, 8]]\n",
    "])\n",
    "\n",
    "print(a)\n",
    "'''\n",
    "\n",
    "[ [[1, 2], [3, 4]],\n",
    "  [[5, 6], [7, 8]] ]\n",
    "------T--------\n",
    "[ [[1, 2], [5, 6]],\n",
    "  [[3, 4], [7, 8]] ]\n",
    "'''"
   ]
  },
  {
   "cell_type": "code",
   "execution_count": 75,
   "metadata": {},
   "outputs": [
    {
     "name": "stdout",
     "output_type": "stream",
     "text": [
      "tensor([[[1, 2],\n",
      "         [3, 4]],\n",
      "\n",
      "        [[5, 6],\n",
      "         [7, 8]]])\n",
      "tensor([[[1, 2],\n",
      "         [5, 6]],\n",
      "\n",
      "        [[3, 4],\n",
      "         [7, 8]]])\n"
     ]
    }
   ],
   "source": [
    "# 按照不同的维度进行转置\n",
    "b1 = torch.transpose(a, 0, 1)\n",
    "\n",
    "\n",
    "print(a)\n",
    "print(b1)"
   ]
  },
  {
   "cell_type": "code",
   "execution_count": 94,
   "metadata": {},
   "outputs": [
    {
     "name": "stdout",
     "output_type": "stream",
     "text": [
      "torch.Size([4, 3, 28, 24])\n",
      "torch.Size([4, 28, 24, 3])\n",
      "torch.Size([4, 28, 24, 3])\n"
     ]
    }
   ],
   "source": [
    "# 完成 [N, C, H, W] -> [N, H, W, C]\n",
    "img_set = torch.Tensor(4, 3, 28, 24)\n",
    "print(img_set.shape)\n",
    "# transpose\n",
    "img_set1 = img_set.transpose(1, 3).transpose(1, 2)\n",
    "print(img_set1.shape)\n",
    "\n",
    "img_set2 = img_set.permute(0, 2, 3, 1)\n",
    "print(img_set2.shape)\n"
   ]
  },
  {
   "cell_type": "code",
   "execution_count": 61,
   "metadata": {},
   "outputs": [
    {
     "name": "stdout",
     "output_type": "stream",
     "text": [
      "torch.Size([4, 3, 32, 32])\n",
      "torch.Size([4, 3, 32, 32])\n",
      "torch.Size([4, 3, 32, 32])\n"
     ]
    }
   ],
   "source": [
    "# squeeze & unsequeeze\n",
    "bias = torch.tensor([1, 2, 3])\n",
    "img = torch.randint(1, 4, (4, 3, 32, 32))\n",
    "\n",
    "bias = bias.unsqueeze(0).unsqueeze(2).unsqueeze(3)\n",
    "bias = bias.expand(4, 3, 32, 32)\n",
    "print(bias.shape)\n",
    "print(img.shape)\n",
    "\n",
    "img = img + bias\n",
    "print(img.shape)\n"
   ]
  },
  {
   "cell_type": "code",
   "execution_count": 72,
   "metadata": {},
   "outputs": [
    {
     "name": "stdout",
     "output_type": "stream",
     "text": [
      "torch.Size([1, 4, 1, 1])\n",
      "torch.Size([4])\n",
      "torch.Size([4, 1, 1])\n",
      "torch.Size([4, 1])\n",
      "torch.Size([4])\n"
     ]
    }
   ],
   "source": [
    "bias = torch.randint(1, 4, (1, 4, 1, 1))\n",
    "\n",
    "print(bias.shape)\n",
    "print(bias.squeeze().shape)\n",
    "print(bias.squeeze(0).shape)\n",
    "print(bias.squeeze(0).squeeze(1).shape)\n",
    "print(bias.squeeze(0).squeeze(1).squeeze(1).shape)\n"
   ]
  },
  {
   "cell_type": "code",
   "execution_count": 90,
   "metadata": {},
   "outputs": [
    {
     "name": "stdout",
     "output_type": "stream",
     "text": [
      "tensor([2, 1, 1, 2]) torch.Size([4])\n",
      "tensor([[[2, 1, 1, 2],\n",
      "         [2, 1, 1, 2]]]) torch.Size([1, 2, 4])\n"
     ]
    }
   ],
   "source": [
    "# expand -1 表示维度不变\n",
    "bias = torch.randint(1, 4, (4,))\n",
    "\n",
    "print(bias, bias.shape)\n",
    "bias = bias.expand(1, 4)\n",
    "bias = bias.expand(2, 4)\n",
    "bias = bias.expand(1, 2, 4)\n",
    "print(bias, bias.shape)"
   ]
  },
  {
   "cell_type": "markdown",
   "metadata": {},
   "source": [
    "### 矩阵操作"
   ]
  },
  {
   "cell_type": "code",
   "execution_count": 97,
   "metadata": {},
   "outputs": [
    {
     "data": {
      "text/plain": [
       "torch.Size([4, 512])"
      ]
     },
     "execution_count": 97,
     "metadata": {},
     "output_type": "execute_result"
    }
   ],
   "source": [
    "# 降维\n",
    "img = torch.rand(4, 28*28)\n",
    "\n",
    "x = torch.rand(4, 28*28)\n",
    "w = torch.rand(512, 28*28)\n",
    "\n",
    "# 从 784 -> 512\n",
    "torch.matmul(x, w.t()).shape # 4 * 512 二维亦可使用 mm"
   ]
  },
  {
   "cell_type": "code",
   "execution_count": 101,
   "metadata": {},
   "outputs": [
    {
     "name": "stdout",
     "output_type": "stream",
     "text": [
      "tensor([[3, 3],\n",
      "        [3, 3]])\n",
      "tensor([[9, 9],\n",
      "        [9, 9]])\n",
      "tensor([[3., 3.],\n",
      "        [3., 3.]])\n",
      "tensor([[27., 27.],\n",
      "        [27., 27.]])\n"
     ]
    }
   ],
   "source": [
    "# power 求次方\n",
    "a = torch.full([2, 2], 3)\n",
    "print(a)\n",
    "a = a.pow(2)\n",
    "print(a)\n",
    "a = a.sqrt()\n",
    "print(a)\n",
    "a = a**3\n",
    "print(a)"
   ]
  },
  {
   "cell_type": "code",
   "execution_count": 104,
   "metadata": {},
   "outputs": [
    {
     "name": "stdout",
     "output_type": "stream",
     "text": [
      "tensor([[2.7183, 2.7183],\n",
      "        [2.7183, 2.7183]])\n",
      "tensor([[1., 1.],\n",
      "        [1., 1.]])\n"
     ]
    }
   ],
   "source": [
    "# exp\n",
    "a = torch.exp(torch.ones(2, 2))\n",
    "\n",
    "print(a)\n",
    "\n",
    "a = a.log() # 默认以 e 为底\n",
    "print(a)"
   ]
  },
  {
   "cell_type": "code",
   "execution_count": 109,
   "metadata": {},
   "outputs": [
    {
     "name": "stdout",
     "output_type": "stream",
     "text": [
      "tensor(14.1355)\n",
      "tensor(6.1030)\n",
      "tensor([[10.9677, 10.0000, 10.0000],\n",
      "        [11.8371, 10.0000, 14.1355]])\n",
      "tensor([[10.9677,  6.0930,  6.1030],\n",
      "        [11.8371,  2.0998, 14.1355]])\n"
     ]
    }
   ],
   "source": [
    "# floor ceil trunc: 整数 frac: 小数 round: 四舍五入\n",
    "\n",
    "# clamp\n",
    "grad = torch.rand(2, 3) * 15\n",
    "\n",
    "print(grad.max())\n",
    "print(grad.median())\n",
    "print(grad.clamp(10))\n",
    "print(grad)\n",
    "\n",
    "torch.clamp()"
   ]
  },
  {
   "cell_type": "markdown",
   "metadata": {},
   "source": [
    "### Tensor 自动广播机制"
   ]
  },
  {
   "cell_type": "code",
   "execution_count": 113,
   "metadata": {},
   "outputs": [
    {
     "name": "stdout",
     "output_type": "stream",
     "text": [
      "torch.Size([3, 1, 2])\n",
      "torch.Size([2, 1])\n",
      "torch.Size([3, 2, 2])\n"
     ]
    }
   ],
   "source": [
    "a = torch.ones(3, 1, 2)\n",
    "b = torch.ones(2, 1)\n",
    "\n",
    "print(a.shape)\n",
    "print(b.shape)\n",
    "\n",
    "# 2, 1 => 1, 2, 1 => 3, 2, 1 => 3, 2, 2\n",
    "# 3, 1, 2 => 3, 2, 2\n",
    "# + => 3, 2, 2\n",
    "print(torch.add(a, b).shape)"
   ]
  }
 ],
 "metadata": {
  "interpreter": {
   "hash": "b3ba2566441a7c06988d0923437866b63cedc61552a5af99d1f4fb67d367b25f"
  },
  "kernelspec": {
   "display_name": "Python 3.8.8 64-bit ('base': conda)",
   "language": "python",
   "name": "python3"
  },
  "language_info": {
   "codemirror_mode": {
    "name": "ipython",
    "version": 3
   },
   "file_extension": ".py",
   "mimetype": "text/x-python",
   "name": "python",
   "nbconvert_exporter": "python",
   "pygments_lexer": "ipython3",
   "version": "3.8.8"
  },
  "orig_nbformat": 4
 },
 "nbformat": 4,
 "nbformat_minor": 2
}
