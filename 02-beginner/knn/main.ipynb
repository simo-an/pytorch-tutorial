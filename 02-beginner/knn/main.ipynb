{
 "cells": [
  {
   "cell_type": "code",
   "execution_count": 1,
   "metadata": {},
   "outputs": [],
   "source": [
    "import numpy as np\n",
    "import matplotlib.pyplot as plt\n"
   ]
  },
  {
   "cell_type": "code",
   "execution_count": 2,
   "metadata": {},
   "outputs": [],
   "source": [
    "\n",
    "def create_dataset():\n",
    "    group = np.array([\n",
    "        [1.0, 2.0],\n",
    "        [1.2, 0.1],\n",
    "        [0.1, 1.4],\n",
    "        [0.3, 3.5],\n",
    "        [1.1, 1.0],\n",
    "        [0.5, 1.5],\n",
    "    ])\n",
    "    labels = np.array(['A', 'A', 'B', 'B', 'A', 'B'])\n",
    "\n",
    "    return group, labels"
   ]
  },
  {
   "cell_type": "code",
   "execution_count": 3,
   "metadata": {},
   "outputs": [
    {
     "data": {
      "image/png": "[encoded data removed]",
      "text/plain": [
       "<Figure size 432x288 with 1 Axes>"
      ]
     },
     "metadata": {
      "needs_background": "light"
     },
     "output_type": "display_data"
    }
   ],
   "source": [
    "group, labels = create_dataset()\n",
    "\n",
    "test_point = np.array([[1.0, 2.1], [0.4, 2.0]])\n",
    "\n",
    "plt.scatter(group[labels == 'A', 0], group[labels == 'A', 1], color='r', marker='*')\n",
    "plt.scatter(group[labels == 'B', 0], group[labels == 'B', 1], color='g', marker='+')\n",
    "plt.scatter(test_point[:, 0], test_point[:, 1], color='b', marker='.')\n",
    "\n",
    "plt.show()"
   ]
  },
  {
   "cell_type": "code",
   "execution_count": 11,
   "metadata": {},
   "outputs": [
    {
     "name": "stdout",
     "output_type": "stream",
     "text": [
      "['A', 'B']\n"
     ]
    }
   ],
   "source": [
    "def get_edistance(x1_list, x2): # 得到欧式距离\n",
    "    return np.sqrt(np.sum(np.square(x1_list - x2), axis=1))\n",
    "\n",
    "def get_mdistance(x1_list, x2): # 得到曼哈顿距离\n",
    "    return np.sum(np.abs(x1_list - x2), axis=1)\n",
    "\n",
    "def knn_classifier(k, distance, x_train, y_label, x_test):\n",
    "    assert distance == 'E' or distance == 'M', 'distance must be E(欧氏距离) or M(曼哈顿距离)' \n",
    "\n",
    "    num_test = x_test.shape[0]\n",
    "    label_list = []\n",
    "    # 欧式距离\n",
    "\n",
    "    for i in range(num_test):\n",
    "        dis_list = get_edistance(x_train, x_test[i]) if distance == 'E' else get_mdistance(x_train, x_test[i])\n",
    "        nearest_k = np.argsort(dis_list)[:k]\n",
    "        class_dict = {}\n",
    "        for i in nearest_k:\n",
    "            class_dict[y_label[i]] = class_dict.get(y_label[i], 0) + 1\n",
    "\n",
    "        sort_class_count = sorted(class_dict.items(), reverse=True)\n",
    "        label_list.append(sort_class_count[0][0])\n",
    "    \n",
    "    return label_list\n",
    "            \n",
    "\n",
    "\n",
    "point, labels = create_dataset()\n",
    "test_point = np.array([[1.0, 2.1], [0.4, 2.0]])\n",
    "y_test_pred = knn_classifier(1, 'E', point, labels, test_point)\n",
    "print(y_test_pred)\n"
   ]
  }
 ],
 "metadata": {
  "interpreter": {
   "hash": "b3ba2566441a7c06988d0923437866b63cedc61552a5af99d1f4fb67d367b25f"
  },
  "kernelspec": {
   "display_name": "Python 3.8.8 64-bit ('base': conda)",
   "language": "python",
   "name": "python3"
  },
  "language_info": {
   "codemirror_mode": {
    "name": "ipython",
    "version": 3
   },
   "file_extension": ".py",
   "mimetype": "text/x-python",
   "name": "python",
   "nbconvert_exporter": "python",
   "pygments_lexer": "ipython3",
   "version": "3.8.8"
  },
  "orig_nbformat": 4
 },
 "nbformat": 4,
 "nbformat_minor": 2
}
