{
 "cells": [
  {
   "cell_type": "code",
   "execution_count": 1,
   "metadata": {},
   "outputs": [],
   "source": [
    "import torch\n",
    "import numpy as np\n",
    "import matplotlib.pyplot as plt"
   ]
  },
  {
   "cell_type": "code",
   "execution_count": 2,
   "metadata": {},
   "outputs": [],
   "source": [
    "\n",
    "def create_dataset():\n",
    "    group = torch.tensor([\n",
    "        [1.0, 2.0],\n",
    "        [1.2, 0.1],\n",
    "        [0.1, 1.4],\n",
    "        [0.3, 3.5],\n",
    "        [1.1, 1.0],\n",
    "        [0.5, 1.5],\n",
    "    ])\n",
    "    labels = torch.tensor(['A', 'A', 'B', 'B', 'A', 'B'])\n",
    "\n",
    "    return group, labels"
   ]
  },
  {
   "cell_type": "code",
   "execution_count": 4,
   "metadata": {},
   "outputs": [
    {
     "ename": "ValueError",
     "evalue": "too many dimensions 'str'",
     "output_type": "error",
     "traceback": [
      "\u001b[1;31m---------------------------------------------------------------------------\u001b[0m",
      "\u001b[1;31mValueError\u001b[0m                                Traceback (most recent call last)",
      "\u001b[1;32mC:\\Users\\ADMINI~1\\AppData\\Local\\Temp/ipykernel_11160/1241346285.py\u001b[0m in \u001b[0;36m<module>\u001b[1;34m\u001b[0m\n\u001b[1;32m----> 1\u001b[1;33m \u001b[0mgroup\u001b[0m\u001b[1;33m,\u001b[0m \u001b[0mlabels\u001b[0m \u001b[1;33m=\u001b[0m \u001b[0mcreate_dataset\u001b[0m\u001b[1;33m(\u001b[0m\u001b[1;33m)\u001b[0m\u001b[1;33m\u001b[0m\u001b[1;33m\u001b[0m\u001b[0m\n\u001b[0m\u001b[0;32m      2\u001b[0m \u001b[1;33m\u001b[0m\u001b[0m\n\u001b[0;32m      3\u001b[0m \u001b[0mtest_point\u001b[0m \u001b[1;33m=\u001b[0m \u001b[0mtorch\u001b[0m\u001b[1;33m.\u001b[0m\u001b[0mtensor\u001b[0m\u001b[1;33m(\u001b[0m\u001b[1;33m[\u001b[0m\u001b[1;33m[\u001b[0m\u001b[1;36m1.0\u001b[0m\u001b[1;33m,\u001b[0m \u001b[1;36m2.1\u001b[0m\u001b[1;33m]\u001b[0m\u001b[1;33m,\u001b[0m \u001b[1;33m[\u001b[0m\u001b[1;36m0.4\u001b[0m\u001b[1;33m,\u001b[0m \u001b[1;36m2.0\u001b[0m\u001b[1;33m]\u001b[0m\u001b[1;33m]\u001b[0m\u001b[1;33m)\u001b[0m\u001b[1;33m\u001b[0m\u001b[1;33m\u001b[0m\u001b[0m\n\u001b[0;32m      4\u001b[0m \u001b[1;33m\u001b[0m\u001b[0m\n\u001b[0;32m      5\u001b[0m \u001b[1;31m# plt.scatter(group[labels == 'A', 0], group[labels == 'A', 1], color='r', marker='*')\u001b[0m\u001b[1;33m\u001b[0m\u001b[1;33m\u001b[0m\u001b[1;33m\u001b[0m\u001b[0m\n",
      "\u001b[1;32mC:\\Users\\ADMINI~1\\AppData\\Local\\Temp/ipykernel_11160/2173145095.py\u001b[0m in \u001b[0;36mcreate_dataset\u001b[1;34m()\u001b[0m\n\u001b[0;32m      8\u001b[0m         \u001b[1;33m[\u001b[0m\u001b[1;36m0.5\u001b[0m\u001b[1;33m,\u001b[0m \u001b[1;36m1.5\u001b[0m\u001b[1;33m]\u001b[0m\u001b[1;33m,\u001b[0m\u001b[1;33m\u001b[0m\u001b[1;33m\u001b[0m\u001b[0m\n\u001b[0;32m      9\u001b[0m     ])\n\u001b[1;32m---> 10\u001b[1;33m     \u001b[0mlabels\u001b[0m \u001b[1;33m=\u001b[0m \u001b[0mtorch\u001b[0m\u001b[1;33m.\u001b[0m\u001b[0mtensor\u001b[0m\u001b[1;33m(\u001b[0m\u001b[1;33m[\u001b[0m\u001b[1;34m'A'\u001b[0m\u001b[1;33m,\u001b[0m \u001b[1;34m'A'\u001b[0m\u001b[1;33m,\u001b[0m \u001b[1;34m'B'\u001b[0m\u001b[1;33m,\u001b[0m \u001b[1;34m'B'\u001b[0m\u001b[1;33m,\u001b[0m \u001b[1;34m'A'\u001b[0m\u001b[1;33m,\u001b[0m \u001b[1;34m'B'\u001b[0m\u001b[1;33m]\u001b[0m\u001b[1;33m)\u001b[0m\u001b[1;33m\u001b[0m\u001b[1;33m\u001b[0m\u001b[0m\n\u001b[0m\u001b[0;32m     11\u001b[0m \u001b[1;33m\u001b[0m\u001b[0m\n\u001b[0;32m     12\u001b[0m     \u001b[1;32mreturn\u001b[0m \u001b[0mgroup\u001b[0m\u001b[1;33m,\u001b[0m \u001b[0mlabels\u001b[0m\u001b[1;33m\u001b[0m\u001b[1;33m\u001b[0m\u001b[0m\n",
      "\u001b[1;31mValueError\u001b[0m: too many dimensions 'str'"
     ]
    }
   ],
   "source": [
    "group, labels = create_dataset()\n",
    "\n",
    "test_point = torch.tensor([[1.0, 2.1], [0.4, 2.0]])\n",
    "\n",
    "# plt.scatter(group[labels == 'A', 0], group[labels == 'A', 1], color='r', marker='*')\n",
    "# plt.scatter(group[labels == 'B', 0], group[labels == 'B', 1], color='g', marker='+')\n",
    "# plt.scatter(test_point[:, 0], test_point[:, 1], color='b', marker='.')\n",
    "\n",
    "# plt.show()"
   ]
  },
  {
   "cell_type": "code",
   "execution_count": 11,
   "metadata": {},
   "outputs": [
    {
     "name": "stdout",
     "output_type": "stream",
     "text": [
      "['A', 'B']\n"
     ]
    }
   ],
   "source": [
    "def get_edistance(x1_list, x2): # 得到欧式距离\n",
    "    return np.sqrt(np.sum(np.square(x1_list - x2), axis=1))\n",
    "\n",
    "def get_mdistance(x1_list, x2): # 得到曼哈顿距离\n",
    "    return np.sum(np.abs(x1_list - x2), axis=1)\n",
    "\n",
    "def knn_classifier(k, distance, x_train, y_label, x_test):\n",
    "    assert distance == 'E' or distance == 'M', 'distance must be E(欧氏距离) or M(曼哈顿距离)' \n",
    "\n",
    "    num_test = x_test.shape[0]\n",
    "    label_list = []\n",
    "    # 欧式距离\n",
    "\n",
    "    for i in range(num_test):\n",
    "        dis_list = get_edistance(x_train, x_test[i]) if distance == 'E' else get_mdistance(x_train, x_test[i])\n",
    "        nearest_k = np.argsort(dis_list)[:k]\n",
    "        class_dict = {}\n",
    "        for i in nearest_k:\n",
    "            class_dict[y_label[i]] = class_dict.get(y_label[i], 0) + 1\n",
    "\n",
    "        sort_class_count = sorted(class_dict.items(), reverse=True)\n",
    "        label_list.append(sort_class_count[0][0])\n",
    "    \n",
    "    return label_list\n",
    "            \n",
    "\n",
    "\n",
    "point, labels = create_dataset()\n",
    "test_point = np.array([[1.0, 2.1], [0.4, 2.0]])\n",
    "y_test_pred = knn_classifier(1, 'E', point, labels, test_point)\n",
    "print(y_test_pred)\n"
   ]
  }
 ],
 "metadata": {
  "interpreter": {
   "hash": "b3ba2566441a7c06988d0923437866b63cedc61552a5af99d1f4fb67d367b25f"
  },
  "kernelspec": {
   "display_name": "Python 3.8.8 64-bit ('base': conda)",
   "language": "python",
   "name": "python3"
  },
  "language_info": {
   "codemirror_mode": {
    "name": "ipython",
    "version": 3
   },
   "file_extension": ".py",
   "mimetype": "text/x-python",
   "name": "python",
   "nbconvert_exporter": "python",
   "pygments_lexer": "ipython3",
   "version": "3.8.8"
  },
  "orig_nbformat": 4
 },
 "nbformat": 4,
 "nbformat_minor": 2
}
