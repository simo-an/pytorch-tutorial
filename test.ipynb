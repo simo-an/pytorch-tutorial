{
 "cells": [
  {
   "cell_type": "code",
   "execution_count": 1,
   "metadata": {},
   "outputs": [],
   "source": [
    "import math\n",
    "import torch\n",
    "import numpy as np"
   ]
  },
  {
   "cell_type": "code",
   "execution_count": 2,
   "metadata": {},
   "outputs": [
    {
     "name": "stdout",
     "output_type": "stream",
     "text": [
      "5.0\n",
      "7\n"
     ]
    }
   ],
   "source": [
    "def get_edistance(x1, x2): # 得到欧式距离\n",
    "    return np.sqrt(np.sum(np.square(x1 - x2)))\n",
    "\n",
    "def get_mdistance(x1, x2): # 得到曼哈顿距离\n",
    "    return np.sum(np.abs(x1 - x2) )\n",
    "\n",
    "print(get_edistance(np.array([0, 0]), np.array([3, 4])))\n",
    "print(get_mdistance(np.array([0, 0]), np.array([-3, 4])))\n"
   ]
  },
  {
   "cell_type": "code",
   "execution_count": 11,
   "metadata": {},
   "outputs": [
    {
     "name": "stdout",
     "output_type": "stream",
     "text": [
      "[[0.36 0.  ]\n",
      " [0.64 3.61]\n",
      " [0.09 0.36]\n",
      " [0.01 2.25]\n",
      " [0.49 1.  ]\n",
      " [0.01 0.25]]\n",
      "[0.36 4.25 0.45 2.26 1.49 0.26]\n",
      "[0.6        2.06155281 0.67082039 1.50332964 1.22065556 0.50990195]\n"
     ]
    }
   ],
   "source": [
    "    group = np.array([\n",
    "        [1.0, 2.0],\n",
    "        [1.2, 0.1],\n",
    "        [0.1, 1.4],\n",
    "        [0.3, 3.5],\n",
    "        [1.1, 1.0],\n",
    "        [0.5, 1.5],\n",
    "    ])\n",
    "    point = np.array([0.4, 2.0])\n",
    "\n",
    "    print(np.square(group - point))\n",
    "    print(np.sum(np.square(group - point), axis=1))\n",
    "    print(np.sqrt(np.sum(np.square(group - point), axis=1)))\n",
    "\n",
    "    # print(get_mdistance(group, point))"
   ]
  },
  {
   "cell_type": "code",
   "execution_count": 4,
   "metadata": {},
   "outputs": [
    {
     "name": "stdout",
     "output_type": "stream",
     "text": [
      "0\n"
     ]
    }
   ],
   "source": [
    "class_dict = {}\n",
    "print(class_dict.get('A', 0))"
   ]
  }
 ],
 "metadata": {
  "interpreter": {
   "hash": "b3ba2566441a7c06988d0923437866b63cedc61552a5af99d1f4fb67d367b25f"
  },
  "kernelspec": {
   "display_name": "Python 3.8.8 64-bit ('base': conda)",
   "language": "python",
   "name": "python3"
  },
  "language_info": {
   "codemirror_mode": {
    "name": "ipython",
    "version": 3
   },
   "file_extension": ".py",
   "mimetype": "text/x-python",
   "name": "python",
   "nbconvert_exporter": "python",
   "pygments_lexer": "ipython3",
   "version": "3.8.8"
  },
  "orig_nbformat": 4
 },
 "nbformat": 4,
 "nbformat_minor": 2
}
